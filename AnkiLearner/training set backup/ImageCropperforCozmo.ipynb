{
 "cells": [
  {
   "cell_type": "code",
   "execution_count": 14,
   "metadata": {
    "collapsed": true
   },
   "outputs": [],
   "source": [
    "import cv2\n",
    "import sys\n",
    "import os\n",
    "from os import listdir\n",
    "\n",
    "import matplotlib.pyplot as plt\n",
    "%matplotlib inline"
   ]
  },
  {
   "cell_type": "markdown",
   "metadata": {},
   "source": [
    "## A function to collect all images from the folder"
   ]
  },
  {
   "cell_type": "code",
   "execution_count": 22,
   "metadata": {
    "collapsed": true
   },
   "outputs": [
    {
     "data": {
      "text/plain": [
       "['04:39:14.jpg',\n",
       " '04:39:15.jpg',\n",
       " '04:39:16.jpg',\n",
       " '04:39:17.jpg',\n",
       " '04:39:18.jpg',\n",
       " '04:39:19.jpg',\n",
       " '04:39:20.jpg',\n",
       " '04:39:21.jpg',\n",
       " '04:39:22.jpg',\n",
       " '04:39:23.jpg',\n",
       " '04:39:24.jpg',\n",
       " '04:39:25.jpg',\n",
       " '04:39:26.jpg',\n",
       " '04:39:27.jpg',\n",
       " '04:39:28.jpg',\n",
       " '04:39:29.jpg',\n",
       " '04:39:30.jpg',\n",
       " '04:39:31.jpg',\n",
       " '04:39:32.jpg',\n",
       " '04:39:33.jpg',\n",
       " '04:39:34.jpg',\n",
       " '04:39:35.jpg',\n",
       " '04:39:36.jpg',\n",
       " '04:39:37.jpg',\n",
       " '04:39:38.jpg',\n",
       " '04:39:39.jpg',\n",
       " '04:39:40.jpg',\n",
       " '04:39:41.jpg',\n",
       " '04:39:42.jpg',\n",
       " '04:39:43.jpg',\n",
       " '04:39:44.jpg',\n",
       " '04:39:45.jpg',\n",
       " '04:39:46.jpg',\n",
       " '04:39:47.jpg',\n",
       " '04:39:48.jpg',\n",
       " '04:39:49.jpg',\n",
       " '04:39:50.jpg',\n",
       " '04:39:51.jpg',\n",
       " '04:39:52.jpg',\n",
       " '04:39:53.jpg',\n",
       " '04:39:54.jpg',\n",
       " '04:39:55.jpg',\n",
       " '04:39:56.jpg',\n",
       " '04:39:57.jpg',\n",
       " '04:39:58.jpg',\n",
       " '04:39:59.jpg',\n",
       " '04:40:00.jpg',\n",
       " '04:40:01.jpg',\n",
       " '04:40:02.jpg',\n",
       " '04:40:03.jpg',\n",
       " '04:40:04.jpg',\n",
       " '04:40:05.jpg',\n",
       " '04:40:06.jpg',\n",
       " '04:40:07.jpg',\n",
       " '04:40:08.jpg',\n",
       " '04:40:09.jpg',\n",
       " '04:40:10.jpg',\n",
       " '04:40:11.jpg',\n",
       " '04:40:12.jpg',\n",
       " '04:40:13.jpg',\n",
       " '04:40:14.jpg',\n",
       " '04:40:15.jpg',\n",
       " '04:40:16.jpg',\n",
       " '04:40:17.jpg',\n",
       " '04:40:18.jpg',\n",
       " '04:40:19.jpg',\n",
       " '04:40:20.jpg',\n",
       " '04:40:21.jpg',\n",
       " '04:40:22.jpg',\n",
       " '04:40:23.jpg',\n",
       " '04:40:24.jpg',\n",
       " '04:40:25.jpg',\n",
       " '04:40:26.jpg',\n",
       " '04:40:27.jpg',\n",
       " '04:40:28.jpg',\n",
       " '04:40:29.jpg',\n",
       " '04:40:30.jpg',\n",
       " '04:40:31.jpg',\n",
       " '04:40:32.jpg',\n",
       " '04:40:33.jpg',\n",
       " '04:40:34.jpg',\n",
       " '04:40:35.jpg',\n",
       " '04:40:36.jpg',\n",
       " '04:40:37.jpg',\n",
       " '04:40:38.jpg',\n",
       " '04:40:39.jpg',\n",
       " '04:40:40.jpg',\n",
       " '04:40:41.jpg',\n",
       " '04:40:42.jpg',\n",
       " '04:40:43.jpg',\n",
       " '04:40:44.jpg',\n",
       " '04:40:45.jpg',\n",
       " '04:40:46.jpg',\n",
       " '04:40:47.jpg',\n",
       " '04:40:48.jpg',\n",
       " '04:40:49.jpg',\n",
       " '04:40:50.jpg',\n",
       " '04:40:51.jpg',\n",
       " '04:40:52.jpg',\n",
       " '04:40:53.jpg',\n",
       " '04:40:54.jpg',\n",
       " '04:40:55.jpg',\n",
       " '04:40:56.jpg',\n",
       " '04:40:57.jpg']"
      ]
     },
     "execution_count": 22,
     "metadata": {},
     "output_type": "execute_result"
    }
   ],
   "source": [
    "def nameFinder(folder=None):\n",
    "    if folder == None:\n",
    "        folder =  os.path.abspath(os.curdir)\n",
    "    # filters only the .jpg files from the folder\n",
    "    try:\n",
    "        \n",
    "        files = [f for f in listdir(folder) if os.path.isfile(os.path.join(folder, f))]\n",
    "        imageNames = [f for f in files if f.split(\".\")[1] == \"jpg\"]\n",
    "    \n",
    "    except:\n",
    "        print (\"shoot\")\n",
    "    return imageNames\n"
   ]
  },
  {
   "cell_type": "code",
   "execution_count": 26,
   "metadata": {
    "collapsed": false
   },
   "outputs": [
    {
     "name": "stdout",
     "output_type": "stream",
     "text": [
      "['04:39:14.jpg', '04:39:15.jpg', '04:39:16.jpg', '04:39:17.jpg', '04:39:18.jpg', '04:39:19.jpg', '04:39:20.jpg', '04:39:21.jpg', '04:39:22.jpg', '04:39:23.jpg', '04:39:24.jpg', '04:39:25.jpg', '04:39:26.jpg', '04:39:27.jpg', '04:39:28.jpg', '04:39:29.jpg', '04:39:30.jpg', '04:39:31.jpg', '04:39:32.jpg', '04:39:33.jpg', '04:39:34.jpg', '04:39:35.jpg', '04:39:36.jpg', '04:39:37.jpg', '04:39:38.jpg', '04:39:39.jpg', '04:39:40.jpg', '04:39:41.jpg', '04:39:42.jpg', '04:39:43.jpg', '04:39:44.jpg', '04:39:45.jpg', '04:39:46.jpg', '04:39:47.jpg', '04:39:48.jpg', '04:39:49.jpg', '04:39:50.jpg', '04:39:51.jpg', '04:39:52.jpg', '04:39:53.jpg', '04:39:54.jpg', '04:39:55.jpg', '04:39:56.jpg', '04:39:57.jpg', '04:39:58.jpg', '04:39:59.jpg', '04:40:00.jpg', '04:40:01.jpg', '04:40:02.jpg', '04:40:03.jpg', '04:40:04.jpg', '04:40:05.jpg', '04:40:06.jpg', '04:40:07.jpg', '04:40:08.jpg', '04:40:09.jpg', '04:40:10.jpg', '04:40:11.jpg', '04:40:12.jpg', '04:40:13.jpg', '04:40:14.jpg', '04:40:15.jpg', '04:40:16.jpg', '04:40:17.jpg', '04:40:18.jpg', '04:40:19.jpg', '04:40:20.jpg', '04:40:21.jpg', '04:40:22.jpg', '04:40:23.jpg', '04:40:24.jpg', '04:40:25.jpg', '04:40:26.jpg', '04:40:27.jpg', '04:40:28.jpg', '04:40:29.jpg', '04:40:30.jpg', '04:40:31.jpg', '04:40:32.jpg', '04:40:33.jpg', '04:40:34.jpg', '04:40:35.jpg', '04:40:36.jpg', '04:40:37.jpg', '04:40:38.jpg', '04:40:39.jpg', '04:40:40.jpg', '04:40:41.jpg', '04:40:42.jpg', '04:40:43.jpg', '04:40:44.jpg', '04:40:45.jpg', '04:40:46.jpg', '04:40:47.jpg', '04:40:48.jpg', '04:40:49.jpg', '04:40:50.jpg', '04:40:51.jpg', '04:40:52.jpg', '04:40:53.jpg', '04:40:54.jpg', '04:40:55.jpg', '04:40:56.jpg', '04:40:57.jpg']\n"
     ]
    }
   ],
   "source": [
    "files = (listdir())\n",
    "names = [f for f in files if f.split(\".\")[-1] == \"jpg\"]"
   ]
  },
  {
   "cell_type": "code",
   "execution_count": 27,
   "metadata": {
    "collapsed": false
   },
   "outputs": [],
   "source": [
    "imgs = [cv2.imread(name) for name in names]"
   ]
  },
  {
   "cell_type": "code",
   "execution_count": 28,
   "metadata": {
    "collapsed": false
   },
   "outputs": [],
   "source": [
    "def cropImage(images, t,b,l,r):\n",
    "    croppedImages = []\n",
    "    # find the cropped coordinations\n",
    "    for i in range (len(images)):\n",
    "        h , w,_  = images[i].shape\n",
    "        xm = w//2\n",
    "        ym = h//2\n",
    "        x0 = xm - l\n",
    "        x1 = xm + r\n",
    "        y0 = ym - t\n",
    "        y1 = ym + b\n",
    "        # crop the image\n",
    "        croppedImg = images[i][y0:y1, x0:x1]\n",
    "        croppedImages.append(croppedImg)\n",
    "    return croppedImages"
   ]
  },
  {
   "cell_type": "code",
   "execution_count": 29,
   "metadata": {
    "collapsed": false
   },
   "outputs": [],
   "source": [
    "cropped = cropImage(imgs,120,25,125,125)"
   ]
  },
  {
   "cell_type": "code",
   "execution_count": 30,
   "metadata": {
    "collapsed": false
   },
   "outputs": [
    {
     "data": {
      "text/plain": [
       "[True,\n",
       " True,\n",
       " True,\n",
       " True,\n",
       " True,\n",
       " True,\n",
       " True,\n",
       " True,\n",
       " True,\n",
       " True,\n",
       " True,\n",
       " True,\n",
       " True,\n",
       " True,\n",
       " True,\n",
       " True,\n",
       " True,\n",
       " True,\n",
       " True,\n",
       " True,\n",
       " True,\n",
       " True,\n",
       " True,\n",
       " True,\n",
       " True,\n",
       " True,\n",
       " True,\n",
       " True,\n",
       " True,\n",
       " True,\n",
       " True,\n",
       " True,\n",
       " True,\n",
       " True,\n",
       " True,\n",
       " True,\n",
       " True,\n",
       " True,\n",
       " True,\n",
       " True,\n",
       " True,\n",
       " True,\n",
       " True,\n",
       " True,\n",
       " True,\n",
       " True,\n",
       " True,\n",
       " True,\n",
       " True,\n",
       " True,\n",
       " True,\n",
       " True,\n",
       " True,\n",
       " True,\n",
       " True,\n",
       " True,\n",
       " True,\n",
       " True,\n",
       " True,\n",
       " True,\n",
       " True,\n",
       " True,\n",
       " True,\n",
       " True,\n",
       " True,\n",
       " True,\n",
       " True,\n",
       " True,\n",
       " True,\n",
       " True,\n",
       " True,\n",
       " True,\n",
       " True,\n",
       " True,\n",
       " True,\n",
       " True,\n",
       " True,\n",
       " True,\n",
       " True,\n",
       " True,\n",
       " True,\n",
       " True,\n",
       " True,\n",
       " True,\n",
       " True,\n",
       " True,\n",
       " True,\n",
       " True,\n",
       " True,\n",
       " True,\n",
       " True,\n",
       " True,\n",
       " True,\n",
       " True,\n",
       " True,\n",
       " True,\n",
       " True,\n",
       " True,\n",
       " True,\n",
       " True,\n",
       " True,\n",
       " True,\n",
       " True,\n",
       " True]"
      ]
     },
     "execution_count": 30,
     "metadata": {},
     "output_type": "execute_result"
    }
   ],
   "source": [
    "[cv2.imwrite(names[i],cropped[i]) for i in range (len(cropped))]"
   ]
  },
  {
   "cell_type": "code",
   "execution_count": 128,
   "metadata": {
    "collapsed": false
   },
   "outputs": [
    {
     "data": {
      "image/png": "[encoded data removed]",
      "text/plain": [
       "<matplotlib.figure.Figure at 0x110ca90b8>"
      ]
     },
     "metadata": {},
     "output_type": "display_data"
    }
   ],
   "source": [
    "imgplot = plt.imshow(cropped[0])"
   ]
  },
  {
   "cell_type": "code",
   "execution_count": null,
   "metadata": {
    "collapsed": true
   },
   "outputs": [],
   "source": []
  }
 ],
 "metadata": {
  "kernelspec": {
   "display_name": "Python 3",
   "language": "python",
   "name": "python3"
  },
  "language_info": {
   "codemirror_mode": {
    "name": "ipython",
    "version": 3
   },
   "file_extension": ".py",
   "mimetype": "text/x-python",
   "name": "python",
   "nbconvert_exporter": "python",
   "pygments_lexer": "ipython3",
   "version": "3.6.0"
  }
 },
 "nbformat": 4,
 "nbformat_minor": 2
}
