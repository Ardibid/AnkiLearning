{
 "cells": [
  {
   "cell_type": "markdown",
   "metadata": {},
   "source": [
    "# Image classifier"
   ]
  },
  {
   "cell_type": "markdown",
   "metadata": {},
   "source": [
    "## Info\n",
    "ArdavanBidgoli <br>\n",
    "CMU School of Architecture <br>\n",
    "Robotic Plastering Project <br>\n",
    "Feedback-loop image classifier <br>\n",
    "Tested with/for:\n",
    "    Tensorflow 0.12.1\n",
    "    OpenCV 3.2.0-dev\n",
    "\n",
    "this code has been inspired by:\n",
    "https://codelabs.developers.google.com/codelabs/tensorflow-for-poets/index.html?index=../../index#4\n"
   ]
  },
  {
   "cell_type": "markdown",
   "metadata": {},
   "source": [
    "## Imports"
   ]
  },
  {
   "cell_type": "code",
   "execution_count": null,
   "metadata": {
    "collapsed": false
   },
   "outputs": [],
   "source": [
    "# Import Tensorflow\n",
    "import tensorflow as tf\n",
    "\n",
    "# Import libraries for:\n",
    "# System read and write, Checking object types, Time keeping\n",
    "import sys\n",
    "import time\n",
    "import os\n",
    "from os import listdir\n",
    "from os.path import isfile, join, exists\n",
    "from shutil import copyfile\n",
    "\n",
    "# import json for json formatting\n",
    "import json\n",
    "\n",
    "# import openCV\n",
    "import cv2\n",
    "\n",
    "# import numpy\n",
    "import numpy as np\n",
    "\n",
    "# import matPlotLib\n",
    "import matplotlib.pyplot as plt\n",
    "%matplotlib inline\n",
    "import matplotlib.patches as patches\n",
    "\n",
    "\n",
    "print (os.getcwd())"
   ]
  },
  {
   "cell_type": "markdown",
   "metadata": {},
   "source": [
    "## General Setup"
   ]
  },
  {
   "cell_type": "code",
   "execution_count": null,
   "metadata": {
    "collapsed": true
   },
   "outputs": [],
   "source": [
    "# General Setup\n",
    "######################################################################\n",
    "# print in-progress report\n",
    "printSwitch = True\n",
    "# Sets the naming standard\n",
    "sampleFolder = \"./tests\"\n",
    "# Set log file info\n",
    "logFolder = \"./log\"\n",
    "logFileName = \"log\"\n",
    "# keep track of time\n",
    "start_time = time.time()\n",
    "\n",
    "# Error messages:\n",
    "nameFinderError= \"File names cannot be read\"\n",
    "fileReadError = \"Couldn't read files\"\n",
    "\n",
    "\n",
    "# Report messages:\n",
    "saveToFileReport = \"Data saved to the file: \""
   ]
  },
  {
   "cell_type": "markdown",
   "metadata": {},
   "source": [
    "## Classifier Functions"
   ]
  },
  {
   "cell_type": "code",
   "execution_count": null,
   "metadata": {
    "collapsed": false
   },
   "outputs": [],
   "source": [
    "# Returns a list of samples files\n",
    "# Helper Function\n",
    "def nameFinder(folder):\n",
    "    # filters only the .jpg files from the folder\n",
    "    try:\n",
    "        files = [f for f in listdir(folder) if isfile(join(folder, f))]\n",
    "        imageNames = [f for f in files if f.split(\".\")[1] == \"jpg\"]\n",
    "        return imageNames\n",
    "    except:\n",
    "        print (nameFinderError)\n",
    "\n",
    "# Reads the sample files\n",
    "def loadSamples(folder):\n",
    "    sampleData = []\n",
    "    # Loads files at ./tests folder to test based on the trained model \n",
    "    # only lists the .jpg files\n",
    "    # collects all file names\n",
    "    try:\n",
    "        files = [f for f in listdir(folder) if isfile(join(folder, f))]\n",
    "        # filters only the .jpg files\n",
    "        images = [f for f in files if f.split(\".\")[1] == \"jpg\"]\n",
    "        size = len(images)\n",
    "        for img in images:\n",
    "            newPath = folder+\"/\"+img\n",
    "            newSample = tf.gfile.FastGFile(newPath, 'rb').read()\n",
    "            sampleData.append(newSample)\n",
    "        return sampleData\n",
    "    except:\n",
    "        print (fileReadError)\n",
    "\n",
    "# Classifies the images\n",
    "def classifier(sampleData, sampleNames):\n",
    "    result = dict()\n",
    "    size = len(sampleData)\n",
    "    # Loads label file, strips off carriage return\n",
    "    label_lines = [line.rstrip() for line \n",
    "                   in tf.gfile.GFile(\"retrained_labels.txt\")]\n",
    "    # Unpersists graph from file\n",
    "    with tf.gfile.FastGFile(\"retrained_graph.pb\", 'rb') as f:\n",
    "        graph_def = tf.GraphDef()\n",
    "        graph_def.ParseFromString(f.read())\n",
    "        ####################################################\n",
    "        # just a hacky way to solve version discrpancies\n",
    "        # if using older versions of Tensorflow,\n",
    "        # remove this line!\n",
    "        del(graph_def.node[1].attr[\"dct_method\"])\n",
    "        ####################################################\n",
    "        _ = tf.import_graph_def(graph_def, name='')\n",
    "\n",
    "    with tf.Session() as sess:\n",
    "        # Feed the image_data as input to the graph and get first prediction\n",
    "        softmax_tensor = sess.graph.get_tensor_by_name('final_result:0')\n",
    "        fullResultLabels = []\n",
    "        fullResultPred   = []\n",
    "        # iterating over iamges\n",
    "        for i in range (size):\n",
    "        #for image_data_item in image_data:\n",
    "            predictions = sess.run(softmax_tensor, \\\n",
    "                     {'DecodeJpeg/contents:0': sampleData[i]})\n",
    "            # Sort to show labels of first prediction in order of confidence\n",
    "            top_k = predictions[0].argsort()[-len(predictions[0]):][::-1]\n",
    "            human_string = label_lines[top_k[0]]\n",
    "            score = predictions[0][top_k[0]]\n",
    "\n",
    "            # print report during the process\n",
    "            if (printSwitch):\n",
    "#                 print (\"smaple ID\", str(i))\n",
    "#                 print('%s (score = %.2f)' % (human_string, score))\n",
    "#                 print (\"***********\")\n",
    "                tmpLabelList = []\n",
    "                tmpPredList = []\n",
    "                for j in range (len(label_lines)):\n",
    "                    \n",
    "                    tmpLabel =label_lines[top_k[j]] \n",
    "                    tmpPred = predictions[0][top_k[j]]\n",
    "                    \n",
    "                    tmpLabelList.append(tmpLabel)\n",
    "                    tmpPredList.append(tmpPred)\n",
    "                    \n",
    "#                     print('%s (score = %.2f)' % (tmpLabel,tmpPred))\n",
    "#                 print(\"------------------------------------\")\n",
    "                fullResultLabels.append(tmpLabelList)\n",
    "                fullResultPred.append(tmpPredList)\n",
    "                \n",
    "            #if (human_string != \"pass\" or score < 0.5):\n",
    "                #result[sampleNames[i]] = human_string\n",
    "            result[sampleNames[i]] = human_string\n",
    "        \n",
    "    return (result,fullResultLabels,fullResultPred)"
   ]
  },
  {
   "cell_type": "markdown",
   "metadata": {},
   "source": [
    "## Helper functions"
   ]
  },
  {
   "cell_type": "code",
   "execution_count": null,
   "metadata": {
    "collapsed": true
   },
   "outputs": [],
   "source": [
    "# this part must be edited heavily\n",
    "# Prints a brief report at the end\n",
    "\n",
    "def report(data):\n",
    "    finish_time = time.time()\n",
    "    ellapsed_time = finish_time - start_time\n",
    "    average_time = ellapsed_time / float(len(data))\n",
    "\n",
    "    # Print the final report\n",
    "    print ('Total time:', str(int(ellapsed_time)))\n",
    "    print ('Average time:', str(average_time)) \n",
    "    print(\"------------------------------------\")\n",
    "    print (\"Results:\")\n",
    "    for key in data:\n",
    "        print (key,\"\\t\",data[key])\n",
    "    print(\"------------------------------------\")\n",
    "\n",
    "# Writes data to file\n",
    "# Helper function\n",
    "def saveToFile(folder, logName,fails):\n",
    "    # converts fails to json format\n",
    "    jsonData = json.dumps(fails)\n",
    "\n",
    "    # check if the log directory exist\n",
    "    if not exists(folder):\n",
    "        os.makedirs(folder)\n",
    "    # generates the file name to save the log\n",
    "    date_string = time.strftime(\"_%H:%M\")\n",
    "    newName = logName+date_string+\".txt\"\n",
    "    newPath = os.path.join (folder, newName)\n",
    "\n",
    "    # writes to file\n",
    "    log = open(newPath, \"w\")\n",
    "    log.write(str(jsonData))\n",
    "    log.close()\n",
    "    print (saveToFileReport,newPath)\n",
    "\n",
    "# Copies failed cases to log folder with class added to the name\n",
    "def saveFailSamples(logFolder,sampleFolder,fails):\n",
    "    for fail in fails:\n",
    "        failedSamplePath = sampleFolder+\"/\"+fail\n",
    "        name= fail.split(\".\")\n",
    "        targetPath = logFolder+\"/\"+name[0]+\"_\"+fails[fail]+\".jpg\"\n",
    "        copyfile(failedSamplePath, targetPath)\n",
    "    \n",
    "# Generates the log in log folder \n",
    "def logger(logFolder,logFileName,fails,sampleFolder):\n",
    "    saveToFile(logFolder, logFileName, fails)\n",
    "    saveFailSamples(logFolder, sampleFolder, fails)"
   ]
  },
  {
   "cell_type": "markdown",
   "metadata": {},
   "source": [
    "## Image preparation "
   ]
  },
  {
   "cell_type": "code",
   "execution_count": null,
   "metadata": {
    "collapsed": true
   },
   "outputs": [],
   "source": [
    "def cropImage(images, t,b,l,r):\n",
    "    croppedImages = []\n",
    "    # find the cropped coordinations\n",
    "    for i in range (len(images)):\n",
    "        h , w,_  = images[i].shape\n",
    "        xm = w//2\n",
    "        ym = h//2\n",
    "        x0 = xm - l\n",
    "        x1 = xm + r\n",
    "        y0 = ym - t\n",
    "        y1 = ym + b\n",
    "        # crop the image\n",
    "        croppedImg = images[i][y0:y1, x0:x1]\n",
    "        croppedImages.append(croppedImg)\n",
    "    return croppedImages\n",
    "\n",
    "def sliceImage(grid = 3, overlapVal = 0.5, path = None):\n",
    "    cropCord = []\n",
    "    keepAll = False\n",
    "    if path == None:\n",
    "        path = sampleFolder\n",
    "    # convert the image to a grid for finding the object\n",
    "    files = (listdir(sampleFolder))\n",
    "    names = [f for f in files if f.split(\".\")[-1] == \"jpg\"]\n",
    "    print (names)\n",
    "    croppedImages = []\n",
    "    # find the cropped coordinations\n",
    "    for i in range (len(names)):\n",
    "        name = names[i]\n",
    "        tmpName = name.split(\".\")[0]\n",
    "        name = os.path.join(path, name)\n",
    "        image = cv2.imread(name)\n",
    "        h , w,_  = image.shape\n",
    "        width = w//grid\n",
    "        overlap = width*overlapVal\n",
    "        # crops the image in three sections, left, middle,right\n",
    "        preStart = None\n",
    "        preEnd = None\n",
    "        for j in range (grid):\n",
    "            start = j * width\n",
    "            startOverlap = start - overlap//2\n",
    "            if startOverlap < 0 : startOverlap = 0\n",
    "            end = startOverlap + width + overlap//2\n",
    "            if end > w : end = w\n",
    "            if (preStart != startOverlap and preEnd != end) or keepAll:\n",
    "                croppedImg = image[0:h, int(startOverlap):int(end)]\n",
    "                cropCord.append((int(startOverlap),int(end)))\n",
    "                tagName = os.path.join(path, tmpName+\"_\"+str(j)+\".jpg\")\n",
    "                cv2.imwrite(tagName,croppedImg)\n",
    "                croppedImages.append(croppedImg)\n",
    "            preStart = startOverlap \n",
    "            preEnd = end \n",
    "        \n",
    "    return croppedImages, cropCord"
   ]
  },
  {
   "cell_type": "markdown",
   "metadata": {},
   "source": [
    "## Main body of codes"
   ]
  },
  {
   "cell_type": "code",
   "execution_count": null,
   "metadata": {
    "collapsed": false,
    "scrolled": true
   },
   "outputs": [],
   "source": [
    "def detection(slicing = False):\n",
    "    \n",
    "    # find original Images\n",
    "    files = (listdir(sampleFolder))\n",
    "    names = [f for f in files if f.split(\".\")[-1] == \"jpg\"]\n",
    "    \n",
    "    # slice Images\n",
    "    if slicing :\n",
    "        print (\"slicing\")\n",
    "        slices,sliceCord = sliceImage(8, 3)\n",
    "    samples = loadSamples(sampleFolder)\n",
    "    \n",
    "    # detect names and other stuff\n",
    "    sampleNames = nameFinder(sampleFolder)\n",
    "    print (sampleNames)\n",
    "    print (\"start classifying\")\n",
    "    \n",
    "    results, labels, predicitons = classifier(samples,sampleNames)\n",
    "    \n",
    "    # Reporting\n",
    "    logger(logFolder,logFileName,results,sampleFolder)\n",
    "    report(results)\n",
    "    print (\"detection completed\")\n",
    "    return results, labels, predicitons,names, sliceCord"
   ]
  },
  {
   "cell_type": "code",
   "execution_count": null,
   "metadata": {
    "collapsed": false
   },
   "outputs": [],
   "source": [
    "def findMainObject(data):\n",
    "    results, labels, predicitons,names, sliceCord = data\n",
    "    probableLabel = []\n",
    "    probablePred = []\n",
    "    for i in range(len(labels)):\n",
    "        probableLabel.append(labels[i][0])\n",
    "        probablePred.append(labels[i][0])\n",
    "    labels = set(probableLabel)\n",
    "    labelData = dict()\n",
    "    for label in labels:\n",
    "        freq = 0\n",
    "        for probLabel in probableLabel:\n",
    "            if probLabel == label:\n",
    "                freq+=1\n",
    "        labelData[label] = freq\n",
    "    print (labelData)\n",
    "        \n",
    "def HeadingFocusObject(data):\n",
    "    results, labels, predicitons,names, sliceCord = data\n",
    "    focusObject = labels[0][0]\n",
    "    print (\"Focus: \", focusObject)\n",
    "    directionChart = []\n",
    "    for i in range (1,len(labels)):\n",
    "        prediction = predicitons[i][0]\n",
    "        rate = 0\n",
    "        if labels[i][0] == focusObject:\n",
    "            if prediction > .5 : rate = 1 #i\n",
    "        \n",
    "        print (labels[i][0],prediction,rate )\n",
    "        directionChart.append(rate)\n",
    "    \n",
    "    realDirection = np.mean(directionChart)\n",
    "    print (realDirection) \n",
    "    return directionChart\n",
    "    \n",
    "def longestRun(data):\n",
    "    print (data)\n",
    "    LongestRun = []\n",
    "    maxRunLen = 0\n",
    "    curRun = []\n",
    "    for i in range(len(data)):\n",
    "        if data[i] == 1:\n",
    "            curRun.append(i)\n",
    "        else:\n",
    "            curLen = len(curRun)\n",
    "            if curLen > maxRunLen:\n",
    "                LongestRun = curRun\n",
    "            curRun = []\n",
    "    curLen = len(curRun)\n",
    "    if curLen > maxRunLen:\n",
    "                LongestRun = curRun\n",
    "    print (LongestRun)\n",
    "    return LongestRun\n",
    "            "
   ]
  },
  {
   "cell_type": "code",
   "execution_count": null,
   "metadata": {
    "collapsed": true
   },
   "outputs": [],
   "source": [
    "def findBearing(data):\n",
    "    a,b,c,d,e = data\n",
    "    fieldOfViewAngle = 90\n",
    "    divisions = len(a)-1\n",
    "    \n",
    "    if divisions == 0:\n",
    "        return None\n",
    "    step = fieldOfViewAngle/divisions\n",
    "    direction = HeadingFocusObject(data)\n",
    "    longRun = longestRun(direction)\n",
    "    bearing = np.mean(longRun)\n",
    "    alpha = (bearing-3)*step\n",
    "    print (\"bearing: \", bearing)\n",
    "    print (\"divisions: \", divisions)\n",
    "    print (\"step: \", step)\n",
    "    print (\"alpha: \", alpha)\n",
    "    return (alpha,longRun)"
   ]
  },
  {
   "cell_type": "code",
   "execution_count": null,
   "metadata": {
    "collapsed": false
   },
   "outputs": [],
   "source": [
    "#data = results, labels, predicitons\n",
    "data = detection(True)\n",
    "bearing, target = findBearing(data)\n",
    "results, labels, predicitons,names, sliceCord = data"
   ]
  },
  {
   "cell_type": "code",
   "execution_count": null,
   "metadata": {
    "collapsed": false
   },
   "outputs": [],
   "source": [
    "#a,b,c,d,e = data\n",
    "targetCor = []\n",
    "for val in  (target):\n",
    "    a,b = sliceCord[val]\n",
    "    targetCor.extend([a,b])\n",
    "targetCor.sort()\n",
    "sourceName = names[0]\n",
    "sourceName = os.path.join(sampleFolder, sourceName)\n",
    "sourceImage = cv2.imread(sourceName)\n",
    "print (type(sourceImage))\n",
    "print (type(sourceImage))\n",
    "# clean the folder\n",
    "files = (listdir(sampleFolder))\n",
    "names = [f for f in files if f.split(\".\")[-1] == \"jpg\"]\n",
    "for name in names:\n",
    "    name = os.path.join(sampleFolder, name)\n",
    "    if name != sourceName:\n",
    "        print(name)\n",
    "        os.remove(name)\n",
    "#cv2.imwrite(name,sourceImage) \n",
    "\n",
    "h = sourceImage.shape[0]\n",
    "w = sourceImage.shape[1]\n",
    "croppedImg = sourceImage[0:h,\n",
    "                         targetCor[0]:targetCor[-1]]\n",
    "plt.imshow(croppedImg)\n"
   ]
  },
  {
   "cell_type": "code",
   "execution_count": null,
   "metadata": {
    "collapsed": false
   },
   "outputs": [],
   "source": [
    "a,labels,c,d,e = data\n",
    "print (labels[0][0])\n",
    "# Create figure and axes\n",
    "fig,ax = plt.subplots(1)\n",
    "\n",
    "# Display the image\n",
    "ax.imshow(sourceImage)\n",
    "\n",
    "padding = 2\n",
    "tPad = 20\n",
    "wStart = targetCor[0]\n",
    "hStart = 0\n",
    "widthVal  = targetCor[-1]-targetCor[0]-padding\n",
    "heightVal = h - padding\n",
    "\n",
    "# Create a Rectangle patch\n",
    "rect = patches.Rectangle((wStart,hStart),widthVal,heightVal,\n",
    "                         linewidth=1,edgecolor='r',facecolor='none')\n",
    "ax.text(wStart+tPad, 2*tPad,labels[0][0],color='r',fontsize=15)\n",
    "\n",
    "# Add the patch to the Axes\n",
    "ax.add_patch(rect)\n",
    "\n",
    "plt.savefig(labels[0][0]+\".jpg\")\n",
    "plt.show()\n"
   ]
  },
  {
   "cell_type": "code",
   "execution_count": null,
   "metadata": {
    "collapsed": true
   },
   "outputs": [],
   "source": []
  },
  {
   "cell_type": "code",
   "execution_count": null,
   "metadata": {
    "collapsed": true
   },
   "outputs": [],
   "source": []
  },
  {
   "cell_type": "code",
   "execution_count": null,
   "metadata": {
    "collapsed": true
   },
   "outputs": [],
   "source": []
  },
  {
   "cell_type": "code",
   "execution_count": null,
   "metadata": {
    "collapsed": true
   },
   "outputs": [],
   "source": []
  },
  {
   "cell_type": "code",
   "execution_count": null,
   "metadata": {
    "collapsed": true
   },
   "outputs": [],
   "source": []
  }
 ],
 "metadata": {
  "kernelspec": {
   "display_name": "Python 3",
   "language": "python",
   "name": "python3"
  },
  "language_info": {
   "codemirror_mode": {
    "name": "ipython",
    "version": 3
   },
   "file_extension": ".py",
   "mimetype": "text/x-python",
   "name": "python",
   "nbconvert_exporter": "python",
   "pygments_lexer": "ipython3",
   "version": "3.6.0"
  }
 },
 "nbformat": 4,
 "nbformat_minor": 2
}
